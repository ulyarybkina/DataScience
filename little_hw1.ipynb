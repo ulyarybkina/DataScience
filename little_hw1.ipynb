{
 "cells": [
  {
   "cell_type": "markdown",
   "metadata": {},
   "source": [
    "# Мини-домашка 1"
   ]
  },
  {
   "cell_type": "markdown",
   "metadata": {},
   "source": [
    "### Задача 1\n",
    "\n",
    "N хоббитов делят K кусков эльфийского хлеба поровну, не делящийся остаток остается в корзинке у Сэма. <br />\n",
    "1) Сколько кусков эльфиского хлеба достанется каждому хоббиту?<br />\n",
    "2) Сколько останется в корзинке?\n",
    "\n",
    "**Образец**\n",
    "\n",
    "Входные данные:<br />\n",
    ">3<br />\n",
    "14<br />\n",
    "\n",
    "Вывод программы:\n",
    "\n",
    ">Каждому хоббиту достанется 4<br />\n",
    "В корзине останется 2"
   ]
  },
  {
   "cell_type": "code",
   "execution_count": null,
   "metadata": {},
   "outputs": [],
   "source": [
    "# Ваш код "
   ]
  },
  {
   "cell_type": "markdown",
   "metadata": {},
   "source": [
    "### Задача 2 \n",
    "\n",
    "Хоббит хочет записать слово `python` 100 раз подряд. Помогите ему сделать это."
   ]
  },
  {
   "cell_type": "code",
   "execution_count": null,
   "metadata": {},
   "outputs": [],
   "source": [
    "# Ваш код "
   ]
  },
  {
   "cell_type": "markdown",
   "metadata": {},
   "source": [
    "### Задача 3 \n",
    "\n",
    "Хоббит взял число $179^{10}$ записали четыре раза подряд. Из получившегося числа он извлёк корень степени $10$. Сколько вышло у Хоббита в итоге?"
   ]
  },
  {
   "cell_type": "code",
   "execution_count": null,
   "metadata": {},
   "outputs": [],
   "source": [
    "# Ваш код "
   ]
  },
  {
   "cell_type": "markdown",
   "metadata": {},
   "source": [
    "### Задача 4\n",
    "\n",
    "Для могущественного магического ритуала Гендальфу необходимо быстро подсчитывать площадь своего амулета, который умеет менять размеры. Известно, что амулет имеет форму треугольника и Гендальф знает длину каждой из сторон. Напишите функцию, которая считает площадь амулета по трем сторонам. Стороны вводятся вне функции. <br /> \n",
    "Подсказка: используйте формулу Герона\n",
    "$$ S = \\sqrt{p(p-a)(p-b)(p-c)} $$\n",
    "$$ p = \\frac{a + b + c}{2}$$\n",
    "**Образец**\n",
    "\n",
    "Входные данные:<br />\n",
    "3\n",
    "4\n",
    "5\n",
    "\n",
    "Вывод программы: <br />\n",
    "6"
   ]
  },
  {
   "cell_type": "code",
   "execution_count": null,
   "metadata": {},
   "outputs": [],
   "source": [
    "# Ваш код "
   ]
  }
 ],
 "metadata": {
  "kernelspec": {
   "display_name": "Python 3",
   "language": "python",
   "name": "python3"
  },
  "language_info": {
   "codemirror_mode": {
    "name": "ipython",
    "version": 3
   },
   "file_extension": ".py",
   "mimetype": "text/x-python",
   "name": "python",
   "nbconvert_exporter": "python",
   "pygments_lexer": "ipython3",
   "version": "3.7.2"
  }
 },
 "nbformat": 4,
 "nbformat_minor": 2
}
